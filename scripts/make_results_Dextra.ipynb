{
 "cells": [
  {
   "cell_type": "code",
   "execution_count": 2,
   "id": "eb30bc1b-f777-44be-bc81-4378fb38b4cd",
   "metadata": {
    "scrolled": true
   },
   "outputs": [
    {
     "name": "stderr",
     "output_type": "stream",
     "text": [
      "/home/users/train045/miniforge3/envs/wcrp_hackathon/lib/python3.12/site-packages/pyproj/network.py:59: UserWarning: pyproj unable to set PROJ database path.\n",
      "  _set_context_ca_bundle_path(ca_bundle_path)\n"
     ]
    }
   ],
   "source": [
    "import glob \n",
    "import numpy as np\n",
    "\n",
    "import cartopy.crs as ccrs\n",
    "import cartopy.feature as cf\n",
    "import intake\n",
    "import matplotlib.pyplot as plt\n",
    "import numpy as np\n",
    "import pandas as pd\n",
    "import xarray as xr\n",
    "\n",
    "import easygems.healpix as egh\n",
    "import os\n",
    "\n",
    "savedir = '/home/users/train045/Documents/WCRP25_hackathon/figs/D4/'"
   ]
  },
  {
   "cell_type": "code",
   "execution_count": null,
   "id": "618a7971-d264-4a93-9a72-12ec8c898067",
   "metadata": {},
   "outputs": [],
   "source": []
  },
  {
   "cell_type": "code",
   "execution_count": null,
   "id": "f0d79fbf-c980-4739-97be-d1343674bb86",
   "metadata": {},
   "outputs": [],
   "source": []
  },
  {
   "cell_type": "code",
   "execution_count": null,
   "id": "0cb3c5eb-947a-4b42-9362-7cc4f14a85c0",
   "metadata": {},
   "outputs": [],
   "source": []
  },
  {
   "cell_type": "code",
   "execution_count": null,
   "id": "828cfaa5-552e-4aa6-9a57-8c56b998103a",
   "metadata": {},
   "outputs": [],
   "source": []
  },
  {
   "cell_type": "markdown",
   "id": "aaf315f3-c803-46b7-8da9-da6f0ae2f612",
   "metadata": {},
   "source": [
    "### estimate percentiles"
   ]
  },
  {
   "cell_type": "code",
   "execution_count": 32,
   "id": "463684c4-f6b3-44aa-b9cb-0b2173015c44",
   "metadata": {
    "scrolled": true
   },
   "outputs": [
    {
     "data": {
      "text/plain": [
       "['/work/scratch-nopw2/train045/percentiles-aug_feb/ral3_zoom10/bins.npy',\n",
       " '/work/scratch-nopw2/train045/percentiles-aug_feb/ral3_zoom10/hist_time_0.npy',\n",
       " '/work/scratch-nopw2/train045/percentiles-aug_feb/ral3_zoom10/hist_time_1.npy',\n",
       " '/work/scratch-nopw2/train045/percentiles-aug_feb/ral3_zoom10/hist_time_10.npy',\n",
       " '/work/scratch-nopw2/train045/percentiles-aug_feb/ral3_zoom10/hist_time_11.npy',\n",
       " '/work/scratch-nopw2/train045/percentiles-aug_feb/ral3_zoom10/hist_time_12.npy',\n",
       " '/work/scratch-nopw2/train045/percentiles-aug_feb/ral3_zoom10/hist_time_13.npy',\n",
       " '/work/scratch-nopw2/train045/percentiles-aug_feb/ral3_zoom10/hist_time_14.npy',\n",
       " '/work/scratch-nopw2/train045/percentiles-aug_feb/ral3_zoom10/hist_time_15.npy',\n",
       " '/work/scratch-nopw2/train045/percentiles-aug_feb/ral3_zoom10/hist_time_16.npy',\n",
       " '/work/scratch-nopw2/train045/percentiles-aug_feb/ral3_zoom10/hist_time_17.npy',\n",
       " '/work/scratch-nopw2/train045/percentiles-aug_feb/ral3_zoom10/hist_time_18.npy',\n",
       " '/work/scratch-nopw2/train045/percentiles-aug_feb/ral3_zoom10/hist_time_19.npy',\n",
       " '/work/scratch-nopw2/train045/percentiles-aug_feb/ral3_zoom10/hist_time_2.npy',\n",
       " '/work/scratch-nopw2/train045/percentiles-aug_feb/ral3_zoom10/hist_time_20.npy',\n",
       " '/work/scratch-nopw2/train045/percentiles-aug_feb/ral3_zoom10/hist_time_21.npy',\n",
       " '/work/scratch-nopw2/train045/percentiles-aug_feb/ral3_zoom10/hist_time_22.npy',\n",
       " '/work/scratch-nopw2/train045/percentiles-aug_feb/ral3_zoom10/hist_time_23.npy',\n",
       " '/work/scratch-nopw2/train045/percentiles-aug_feb/ral3_zoom10/hist_time_24.npy',\n",
       " '/work/scratch-nopw2/train045/percentiles-aug_feb/ral3_zoom10/hist_time_25.npy',\n",
       " '/work/scratch-nopw2/train045/percentiles-aug_feb/ral3_zoom10/hist_time_26.npy',\n",
       " '/work/scratch-nopw2/train045/percentiles-aug_feb/ral3_zoom10/hist_time_27.npy',\n",
       " '/work/scratch-nopw2/train045/percentiles-aug_feb/ral3_zoom10/hist_time_28.npy',\n",
       " '/work/scratch-nopw2/train045/percentiles-aug_feb/ral3_zoom10/hist_time_29.npy',\n",
       " '/work/scratch-nopw2/train045/percentiles-aug_feb/ral3_zoom10/hist_time_3.npy',\n",
       " '/work/scratch-nopw2/train045/percentiles-aug_feb/ral3_zoom10/hist_time_30.npy',\n",
       " '/work/scratch-nopw2/train045/percentiles-aug_feb/ral3_zoom10/hist_time_31.npy',\n",
       " '/work/scratch-nopw2/train045/percentiles-aug_feb/ral3_zoom10/hist_time_32.npy',\n",
       " '/work/scratch-nopw2/train045/percentiles-aug_feb/ral3_zoom10/hist_time_33.npy',\n",
       " '/work/scratch-nopw2/train045/percentiles-aug_feb/ral3_zoom10/hist_time_34.npy',\n",
       " '/work/scratch-nopw2/train045/percentiles-aug_feb/ral3_zoom10/hist_time_35.npy',\n",
       " '/work/scratch-nopw2/train045/percentiles-aug_feb/ral3_zoom10/hist_time_36.npy',\n",
       " '/work/scratch-nopw2/train045/percentiles-aug_feb/ral3_zoom10/hist_time_37.npy',\n",
       " '/work/scratch-nopw2/train045/percentiles-aug_feb/ral3_zoom10/hist_time_38.npy',\n",
       " '/work/scratch-nopw2/train045/percentiles-aug_feb/ral3_zoom10/hist_time_39.npy',\n",
       " '/work/scratch-nopw2/train045/percentiles-aug_feb/ral3_zoom10/hist_time_4.npy',\n",
       " '/work/scratch-nopw2/train045/percentiles-aug_feb/ral3_zoom10/hist_time_40.npy',\n",
       " '/work/scratch-nopw2/train045/percentiles-aug_feb/ral3_zoom10/hist_time_41.npy',\n",
       " '/work/scratch-nopw2/train045/percentiles-aug_feb/ral3_zoom10/hist_time_42.npy',\n",
       " '/work/scratch-nopw2/train045/percentiles-aug_feb/ral3_zoom10/hist_time_43.npy',\n",
       " '/work/scratch-nopw2/train045/percentiles-aug_feb/ral3_zoom10/hist_time_44.npy',\n",
       " '/work/scratch-nopw2/train045/percentiles-aug_feb/ral3_zoom10/hist_time_45.npy',\n",
       " '/work/scratch-nopw2/train045/percentiles-aug_feb/ral3_zoom10/hist_time_46.npy',\n",
       " '/work/scratch-nopw2/train045/percentiles-aug_feb/ral3_zoom10/hist_time_47.npy',\n",
       " '/work/scratch-nopw2/train045/percentiles-aug_feb/ral3_zoom10/hist_time_48.npy',\n",
       " '/work/scratch-nopw2/train045/percentiles-aug_feb/ral3_zoom10/hist_time_49.npy',\n",
       " '/work/scratch-nopw2/train045/percentiles-aug_feb/ral3_zoom10/hist_time_5.npy',\n",
       " '/work/scratch-nopw2/train045/percentiles-aug_feb/ral3_zoom10/hist_time_50.npy',\n",
       " '/work/scratch-nopw2/train045/percentiles-aug_feb/ral3_zoom10/hist_time_51.npy',\n",
       " '/work/scratch-nopw2/train045/percentiles-aug_feb/ral3_zoom10/hist_time_52.npy',\n",
       " '/work/scratch-nopw2/train045/percentiles-aug_feb/ral3_zoom10/hist_time_53.npy',\n",
       " '/work/scratch-nopw2/train045/percentiles-aug_feb/ral3_zoom10/hist_time_54.npy',\n",
       " '/work/scratch-nopw2/train045/percentiles-aug_feb/ral3_zoom10/hist_time_55.npy',\n",
       " '/work/scratch-nopw2/train045/percentiles-aug_feb/ral3_zoom10/hist_time_56.npy',\n",
       " '/work/scratch-nopw2/train045/percentiles-aug_feb/ral3_zoom10/hist_time_57.npy',\n",
       " '/work/scratch-nopw2/train045/percentiles-aug_feb/ral3_zoom10/hist_time_58.npy',\n",
       " '/work/scratch-nopw2/train045/percentiles-aug_feb/ral3_zoom10/hist_time_59.npy',\n",
       " '/work/scratch-nopw2/train045/percentiles-aug_feb/ral3_zoom10/hist_time_6.npy',\n",
       " '/work/scratch-nopw2/train045/percentiles-aug_feb/ral3_zoom10/hist_time_60.npy',\n",
       " '/work/scratch-nopw2/train045/percentiles-aug_feb/ral3_zoom10/hist_time_61.npy',\n",
       " '/work/scratch-nopw2/train045/percentiles-aug_feb/ral3_zoom10/hist_time_62.npy',\n",
       " '/work/scratch-nopw2/train045/percentiles-aug_feb/ral3_zoom10/hist_time_63.npy',\n",
       " '/work/scratch-nopw2/train045/percentiles-aug_feb/ral3_zoom10/hist_time_64.npy',\n",
       " '/work/scratch-nopw2/train045/percentiles-aug_feb/ral3_zoom10/hist_time_65.npy',\n",
       " '/work/scratch-nopw2/train045/percentiles-aug_feb/ral3_zoom10/hist_time_66.npy',\n",
       " '/work/scratch-nopw2/train045/percentiles-aug_feb/ral3_zoom10/hist_time_67.npy',\n",
       " '/work/scratch-nopw2/train045/percentiles-aug_feb/ral3_zoom10/hist_time_68.npy',\n",
       " '/work/scratch-nopw2/train045/percentiles-aug_feb/ral3_zoom10/hist_time_69.npy',\n",
       " '/work/scratch-nopw2/train045/percentiles-aug_feb/ral3_zoom10/hist_time_7.npy',\n",
       " '/work/scratch-nopw2/train045/percentiles-aug_feb/ral3_zoom10/hist_time_70.npy',\n",
       " '/work/scratch-nopw2/train045/percentiles-aug_feb/ral3_zoom10/hist_time_71.npy',\n",
       " '/work/scratch-nopw2/train045/percentiles-aug_feb/ral3_zoom10/hist_time_72.npy',\n",
       " '/work/scratch-nopw2/train045/percentiles-aug_feb/ral3_zoom10/hist_time_73.npy',\n",
       " '/work/scratch-nopw2/train045/percentiles-aug_feb/ral3_zoom10/hist_time_74.npy',\n",
       " '/work/scratch-nopw2/train045/percentiles-aug_feb/ral3_zoom10/hist_time_75.npy',\n",
       " '/work/scratch-nopw2/train045/percentiles-aug_feb/ral3_zoom10/hist_time_76.npy',\n",
       " '/work/scratch-nopw2/train045/percentiles-aug_feb/ral3_zoom10/hist_time_77.npy',\n",
       " '/work/scratch-nopw2/train045/percentiles-aug_feb/ral3_zoom10/hist_time_78.npy',\n",
       " '/work/scratch-nopw2/train045/percentiles-aug_feb/ral3_zoom10/hist_time_79.npy',\n",
       " '/work/scratch-nopw2/train045/percentiles-aug_feb/ral3_zoom10/hist_time_8.npy',\n",
       " '/work/scratch-nopw2/train045/percentiles-aug_feb/ral3_zoom10/hist_time_80.npy',\n",
       " '/work/scratch-nopw2/train045/percentiles-aug_feb/ral3_zoom10/hist_time_81.npy',\n",
       " '/work/scratch-nopw2/train045/percentiles-aug_feb/ral3_zoom10/hist_time_82.npy',\n",
       " '/work/scratch-nopw2/train045/percentiles-aug_feb/ral3_zoom10/hist_time_83.npy',\n",
       " '/work/scratch-nopw2/train045/percentiles-aug_feb/ral3_zoom10/hist_time_84.npy',\n",
       " '/work/scratch-nopw2/train045/percentiles-aug_feb/ral3_zoom10/hist_time_85.npy',\n",
       " '/work/scratch-nopw2/train045/percentiles-aug_feb/ral3_zoom10/hist_time_86.npy',\n",
       " '/work/scratch-nopw2/train045/percentiles-aug_feb/ral3_zoom10/hist_time_87.npy',\n",
       " '/work/scratch-nopw2/train045/percentiles-aug_feb/ral3_zoom10/hist_time_88.npy',\n",
       " '/work/scratch-nopw2/train045/percentiles-aug_feb/ral3_zoom10/hist_time_89.npy',\n",
       " '/work/scratch-nopw2/train045/percentiles-aug_feb/ral3_zoom10/hist_time_9.npy',\n",
       " '/work/scratch-nopw2/train045/percentiles-aug_feb/ral3_zoom10/hist_time_90.npy',\n",
       " '/work/scratch-nopw2/train045/percentiles-aug_feb/ral3_zoom10/hist_time_91.npy',\n",
       " '/work/scratch-nopw2/train045/percentiles-aug_feb/ral3_zoom10/hist_time_92.npy',\n",
       " '/work/scratch-nopw2/train045/percentiles-aug_feb/ral3_zoom10/hist_time_93.npy',\n",
       " '/work/scratch-nopw2/train045/percentiles-aug_feb/ral3_zoom10/hist_time_94.npy',\n",
       " '/work/scratch-nopw2/train045/percentiles-aug_feb/ral3_zoom10/hist_time_95.npy',\n",
       " '/work/scratch-nopw2/train045/percentiles-aug_feb/ral3_zoom10/hist_time_96.npy',\n",
       " '/work/scratch-nopw2/train045/percentiles-aug_feb/ral3_zoom10/pi99.0_time_0.npy',\n",
       " '/work/scratch-nopw2/train045/percentiles-aug_feb/ral3_zoom10/pi99.0_time_1.npy',\n",
       " '/work/scratch-nopw2/train045/percentiles-aug_feb/ral3_zoom10/pi99.0_time_10.npy',\n",
       " '/work/scratch-nopw2/train045/percentiles-aug_feb/ral3_zoom10/pi99.0_time_11.npy',\n",
       " '/work/scratch-nopw2/train045/percentiles-aug_feb/ral3_zoom10/pi99.0_time_12.npy',\n",
       " '/work/scratch-nopw2/train045/percentiles-aug_feb/ral3_zoom10/pi99.0_time_13.npy',\n",
       " '/work/scratch-nopw2/train045/percentiles-aug_feb/ral3_zoom10/pi99.0_time_14.npy',\n",
       " '/work/scratch-nopw2/train045/percentiles-aug_feb/ral3_zoom10/pi99.0_time_15.npy',\n",
       " '/work/scratch-nopw2/train045/percentiles-aug_feb/ral3_zoom10/pi99.0_time_16.npy',\n",
       " '/work/scratch-nopw2/train045/percentiles-aug_feb/ral3_zoom10/pi99.0_time_19.npy',\n",
       " '/work/scratch-nopw2/train045/percentiles-aug_feb/ral3_zoom10/pi99.0_time_2.npy',\n",
       " '/work/scratch-nopw2/train045/percentiles-aug_feb/ral3_zoom10/pi99.0_time_20.npy',\n",
       " '/work/scratch-nopw2/train045/percentiles-aug_feb/ral3_zoom10/pi99.0_time_21.npy',\n",
       " '/work/scratch-nopw2/train045/percentiles-aug_feb/ral3_zoom10/pi99.0_time_22.npy',\n",
       " '/work/scratch-nopw2/train045/percentiles-aug_feb/ral3_zoom10/pi99.0_time_23.npy',\n",
       " '/work/scratch-nopw2/train045/percentiles-aug_feb/ral3_zoom10/pi99.0_time_24.npy',\n",
       " '/work/scratch-nopw2/train045/percentiles-aug_feb/ral3_zoom10/pi99.0_time_25.npy',\n",
       " '/work/scratch-nopw2/train045/percentiles-aug_feb/ral3_zoom10/pi99.0_time_26.npy',\n",
       " '/work/scratch-nopw2/train045/percentiles-aug_feb/ral3_zoom10/pi99.0_time_27.npy',\n",
       " '/work/scratch-nopw2/train045/percentiles-aug_feb/ral3_zoom10/pi99.0_time_29.npy',\n",
       " '/work/scratch-nopw2/train045/percentiles-aug_feb/ral3_zoom10/pi99.0_time_3.npy',\n",
       " '/work/scratch-nopw2/train045/percentiles-aug_feb/ral3_zoom10/pi99.0_time_30.npy',\n",
       " '/work/scratch-nopw2/train045/percentiles-aug_feb/ral3_zoom10/pi99.0_time_31.npy',\n",
       " '/work/scratch-nopw2/train045/percentiles-aug_feb/ral3_zoom10/pi99.0_time_32.npy',\n",
       " '/work/scratch-nopw2/train045/percentiles-aug_feb/ral3_zoom10/pi99.0_time_33.npy',\n",
       " '/work/scratch-nopw2/train045/percentiles-aug_feb/ral3_zoom10/pi99.0_time_34.npy',\n",
       " '/work/scratch-nopw2/train045/percentiles-aug_feb/ral3_zoom10/pi99.0_time_35.npy',\n",
       " '/work/scratch-nopw2/train045/percentiles-aug_feb/ral3_zoom10/pi99.0_time_36.npy',\n",
       " '/work/scratch-nopw2/train045/percentiles-aug_feb/ral3_zoom10/pi99.0_time_37.npy',\n",
       " '/work/scratch-nopw2/train045/percentiles-aug_feb/ral3_zoom10/pi99.0_time_38.npy',\n",
       " '/work/scratch-nopw2/train045/percentiles-aug_feb/ral3_zoom10/pi99.0_time_39.npy',\n",
       " '/work/scratch-nopw2/train045/percentiles-aug_feb/ral3_zoom10/pi99.0_time_4.npy',\n",
       " '/work/scratch-nopw2/train045/percentiles-aug_feb/ral3_zoom10/pi99.0_time_40.npy',\n",
       " '/work/scratch-nopw2/train045/percentiles-aug_feb/ral3_zoom10/pi99.0_time_41.npy',\n",
       " '/work/scratch-nopw2/train045/percentiles-aug_feb/ral3_zoom10/pi99.0_time_42.npy',\n",
       " '/work/scratch-nopw2/train045/percentiles-aug_feb/ral3_zoom10/pi99.0_time_43.npy',\n",
       " '/work/scratch-nopw2/train045/percentiles-aug_feb/ral3_zoom10/pi99.0_time_44.npy',\n",
       " '/work/scratch-nopw2/train045/percentiles-aug_feb/ral3_zoom10/pi99.0_time_45.npy',\n",
       " '/work/scratch-nopw2/train045/percentiles-aug_feb/ral3_zoom10/pi99.0_time_46.npy',\n",
       " '/work/scratch-nopw2/train045/percentiles-aug_feb/ral3_zoom10/pi99.0_time_47.npy',\n",
       " '/work/scratch-nopw2/train045/percentiles-aug_feb/ral3_zoom10/pi99.0_time_48.npy',\n",
       " '/work/scratch-nopw2/train045/percentiles-aug_feb/ral3_zoom10/pi99.0_time_49.npy',\n",
       " '/work/scratch-nopw2/train045/percentiles-aug_feb/ral3_zoom10/pi99.0_time_5.npy',\n",
       " '/work/scratch-nopw2/train045/percentiles-aug_feb/ral3_zoom10/pi99.0_time_50.npy',\n",
       " '/work/scratch-nopw2/train045/percentiles-aug_feb/ral3_zoom10/pi99.0_time_51.npy',\n",
       " '/work/scratch-nopw2/train045/percentiles-aug_feb/ral3_zoom10/pi99.0_time_52.npy',\n",
       " '/work/scratch-nopw2/train045/percentiles-aug_feb/ral3_zoom10/pi99.0_time_53.npy',\n",
       " '/work/scratch-nopw2/train045/percentiles-aug_feb/ral3_zoom10/pi99.0_time_54.npy',\n",
       " '/work/scratch-nopw2/train045/percentiles-aug_feb/ral3_zoom10/pi99.0_time_55.npy',\n",
       " '/work/scratch-nopw2/train045/percentiles-aug_feb/ral3_zoom10/pi99.0_time_56.npy',\n",
       " '/work/scratch-nopw2/train045/percentiles-aug_feb/ral3_zoom10/pi99.0_time_57.npy',\n",
       " '/work/scratch-nopw2/train045/percentiles-aug_feb/ral3_zoom10/pi99.0_time_58.npy',\n",
       " '/work/scratch-nopw2/train045/percentiles-aug_feb/ral3_zoom10/pi99.0_time_59.npy',\n",
       " '/work/scratch-nopw2/train045/percentiles-aug_feb/ral3_zoom10/pi99.0_time_6.npy',\n",
       " '/work/scratch-nopw2/train045/percentiles-aug_feb/ral3_zoom10/pi99.0_time_60.npy',\n",
       " '/work/scratch-nopw2/train045/percentiles-aug_feb/ral3_zoom10/pi99.0_time_61.npy',\n",
       " '/work/scratch-nopw2/train045/percentiles-aug_feb/ral3_zoom10/pi99.0_time_62.npy',\n",
       " '/work/scratch-nopw2/train045/percentiles-aug_feb/ral3_zoom10/pi99.0_time_63.npy',\n",
       " '/work/scratch-nopw2/train045/percentiles-aug_feb/ral3_zoom10/pi99.0_time_64.npy',\n",
       " '/work/scratch-nopw2/train045/percentiles-aug_feb/ral3_zoom10/pi99.0_time_65.npy',\n",
       " '/work/scratch-nopw2/train045/percentiles-aug_feb/ral3_zoom10/pi99.0_time_66.npy',\n",
       " '/work/scratch-nopw2/train045/percentiles-aug_feb/ral3_zoom10/pi99.0_time_67.npy',\n",
       " '/work/scratch-nopw2/train045/percentiles-aug_feb/ral3_zoom10/pi99.0_time_68.npy',\n",
       " '/work/scratch-nopw2/train045/percentiles-aug_feb/ral3_zoom10/pi99.0_time_69.npy',\n",
       " '/work/scratch-nopw2/train045/percentiles-aug_feb/ral3_zoom10/pi99.0_time_7.npy',\n",
       " '/work/scratch-nopw2/train045/percentiles-aug_feb/ral3_zoom10/pi99.0_time_70.npy',\n",
       " '/work/scratch-nopw2/train045/percentiles-aug_feb/ral3_zoom10/pi99.0_time_71.npy',\n",
       " '/work/scratch-nopw2/train045/percentiles-aug_feb/ral3_zoom10/pi99.0_time_72.npy',\n",
       " '/work/scratch-nopw2/train045/percentiles-aug_feb/ral3_zoom10/pi99.0_time_73.npy',\n",
       " '/work/scratch-nopw2/train045/percentiles-aug_feb/ral3_zoom10/pi99.0_time_74.npy',\n",
       " '/work/scratch-nopw2/train045/percentiles-aug_feb/ral3_zoom10/pi99.0_time_75.npy',\n",
       " '/work/scratch-nopw2/train045/percentiles-aug_feb/ral3_zoom10/pi99.0_time_76.npy',\n",
       " '/work/scratch-nopw2/train045/percentiles-aug_feb/ral3_zoom10/pi99.0_time_77.npy',\n",
       " '/work/scratch-nopw2/train045/percentiles-aug_feb/ral3_zoom10/pi99.0_time_78.npy',\n",
       " '/work/scratch-nopw2/train045/percentiles-aug_feb/ral3_zoom10/pi99.0_time_79.npy',\n",
       " '/work/scratch-nopw2/train045/percentiles-aug_feb/ral3_zoom10/pi99.0_time_8.npy',\n",
       " '/work/scratch-nopw2/train045/percentiles-aug_feb/ral3_zoom10/pi99.0_time_80.npy',\n",
       " '/work/scratch-nopw2/train045/percentiles-aug_feb/ral3_zoom10/pi99.0_time_81.npy',\n",
       " '/work/scratch-nopw2/train045/percentiles-aug_feb/ral3_zoom10/pi99.0_time_82.npy',\n",
       " '/work/scratch-nopw2/train045/percentiles-aug_feb/ral3_zoom10/pi99.0_time_83.npy',\n",
       " '/work/scratch-nopw2/train045/percentiles-aug_feb/ral3_zoom10/pi99.0_time_84.npy',\n",
       " '/work/scratch-nopw2/train045/percentiles-aug_feb/ral3_zoom10/pi99.0_time_85.npy',\n",
       " '/work/scratch-nopw2/train045/percentiles-aug_feb/ral3_zoom10/pi99.0_time_86.npy',\n",
       " '/work/scratch-nopw2/train045/percentiles-aug_feb/ral3_zoom10/pi99.0_time_87.npy',\n",
       " '/work/scratch-nopw2/train045/percentiles-aug_feb/ral3_zoom10/pi99.0_time_88.npy',\n",
       " '/work/scratch-nopw2/train045/percentiles-aug_feb/ral3_zoom10/pi99.0_time_9.npy']"
      ]
     },
     "execution_count": 32,
     "metadata": {},
     "output_type": "execute_result"
    }
   ],
   "source": [
    "ddir = '/work/scratch-nopw2/train045/percentiles-aug_feb/ral3_zoom10/'\n",
    "files = sorted(glob.glob(ddir + '*'))\n",
    "files"
   ]
  },
  {
   "cell_type": "code",
   "execution_count": 33,
   "id": "36f36c44-d175-4564-a4d3-5b6af94c79c0",
   "metadata": {},
   "outputs": [],
   "source": [
    "li = []\n",
    "for f in glob.glob(ddir + 'hist*'):\n",
    "    li.append(np.load(f))\n",
    "hist = sum(li)\n",
    "bins = np.load(glob.glob(ddir + 'bins*')[0])"
   ]
  },
  {
   "cell_type": "code",
   "execution_count": 38,
   "id": "c38fec8e-2f3e-4a65-a5b4-3afa72317ea2",
   "metadata": {},
   "outputs": [
    {
     "data": {
      "image/png": "[encoded data removed]",
      "text/plain": [
       "<Figure size 640x480 with 1 Axes>"
      ]
     },
     "metadata": {},
     "output_type": "display_data"
    }
   ],
   "source": [
    "plt.bar(bins[:-1], hist)\n",
    "plt.yscale('log')"
   ]
  },
  {
   "cell_type": "code",
   "execution_count": 69,
   "id": "517efd33-4d87-4883-9d52-fc454e5862c9",
   "metadata": {},
   "outputs": [
    {
     "name": "stdout",
     "output_type": "stream",
     "text": [
      "approximated 99th percentile is: 0.21600000000000108\n"
     ]
    }
   ],
   "source": [
    "# cumulative count to find 99th percentile\n",
    "\n",
    "# compute cumulative histogram as proportion of total data points\n",
    "total_obs = np.sum(hist)\n",
    "proportional_hist = hist / total_obs\n",
    "cumulative_proportion = np.cumsum(proportional_hist)\n",
    "\n",
    "# first instance of exceeding .99 percentile in histogram\n",
    "idx = np.abs(cumulative_proportion - .99).argmin()\n",
    "\n",
    "# corresponding value\n",
    "val = bins[idx]\n",
    "print('approximated 99th percentile is:', val)"
   ]
  },
  {
   "cell_type": "code",
   "execution_count": 68,
   "id": "38da80c6-3e8b-4d35-9bb2-f811fffa4740",
   "metadata": {},
   "outputs": [
    {
     "data": {
      "text/plain": [
       "<matplotlib.lines.Line2D at 0x7fd2d2ea3050>"
      ]
     },
     "execution_count": 68,
     "metadata": {},
     "output_type": "execute_result"
    },
    {
     "data": {
      "image/png": "[encoded data removed]",
      "text/plain": [
       "<Figure size 640x480 with 1 Axes>"
      ]
     },
     "metadata": {},
     "output_type": "display_data"
    }
   ],
   "source": [
    "plt.plot(bins[:-1], cumulative_proportion)\n",
    "plt.axhline(.99, c='r')"
   ]
  },
  {
   "cell_type": "code",
   "execution_count": 76,
   "id": "4fc68dbd-249a-40fb-8c00-a841d801c325",
   "metadata": {},
   "outputs": [
    {
     "data": {
      "text/plain": [
       "<matplotlib.lines.Line2D at 0x7fd2d2d29850>"
      ]
     },
     "execution_count": 76,
     "metadata": {},
     "output_type": "execute_result"
    },
    {
     "data": {
      "image/png": "[encoded data removed]",
      "text/plain": [
       "<Figure size 640x480 with 1 Axes>"
      ]
     },
     "metadata": {},
     "output_type": "display_data"
    }
   ],
   "source": [
    "# estimate from independant tstep percentiles\n",
    "li = []\n",
    "for f in glob.glob(ddir + 'pi*'):\n",
    "    p = np.load(f)\n",
    "    li.append(p)\n",
    "plt.hist(li, bins=10, )\n",
    "plt.axvline(np.mean(li), c='r')"
   ]
  },
  {
   "cell_type": "code",
   "execution_count": null,
   "id": "60c8fbf6-61c3-4333-bb4c-ec0c714d02dc",
   "metadata": {},
   "outputs": [],
   "source": []
  },
  {
   "cell_type": "code",
   "execution_count": null,
   "id": "04299a5d-cafd-44d3-92ad-06732ad06e19",
   "metadata": {},
   "outputs": [],
   "source": []
  },
  {
   "cell_type": "code",
   "execution_count": null,
   "id": "97fbfb9c-f6db-4f18-a4a5-95ee996f28a1",
   "metadata": {},
   "outputs": [],
   "source": []
  }
 ],
 "metadata": {
  "kernelspec": {
   "display_name": "wcrp_hackathon",
   "language": "python",
   "name": "wcrp_hackathon"
  },
  "language_info": {
   "codemirror_mode": {
    "name": "ipython",
    "version": 3
   },
   "file_extension": ".py",
   "mimetype": "text/x-python",
   "name": "python",
   "nbconvert_exporter": "python",
   "pygments_lexer": "ipython3",
   "version": "3.12.10"
  }
 },
 "nbformat": 4,
 "nbformat_minor": 5
}
